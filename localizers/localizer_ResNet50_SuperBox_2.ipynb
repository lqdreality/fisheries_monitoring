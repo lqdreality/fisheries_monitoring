{
 "cells": [
  {
   "cell_type": "code",
   "execution_count": null,
   "metadata": {
    "collapsed": false,
    "deletable": true,
    "editable": true
   },
   "outputs": [],
   "source": [
    "%matplotlib inline\n",
    "\n",
    "import pandas as pd\n",
    "import numpy as np\n",
    "import os\n",
    "import glob\n",
    "from scipy.misc import imread\n",
    "import matplotlib.pyplot as plt\n",
    "import matplotlib.patches as patches\n",
    "from PIL import Image\n",
    "import seaborn as sns\n",
    "\n",
    "from sklearn.model_selection import KFold\n",
    "from sklearn.model_selection import train_test_split\n",
    "from sklearn.metrics import log_loss\n",
    "from sklearn.metrics import mean_squared_error\n",
    "from sklearn.utils import shuffle\n",
    "\n",
    "from keras.models import Sequential\n",
    "from keras.models import Model\n",
    "from keras.models import load_model\n",
    "from keras.layers.core import Dense, Dropout, Flatten\n",
    "from keras.layers.normalization import BatchNormalization\n",
    "from keras.layers.convolutional import Convolution2D, MaxPooling2D, ZeroPadding2D\n",
    "from keras.optimizers import SGD\n",
    "from keras.callbacks import EarlyStopping\n",
    "from keras.utils import np_utils\n",
    "from keras.applications.resnet50 import ResNet50\n",
    "from keras.preprocessing import image\n",
    "from keras import backend as K\n",
    "\n",
    "from SSD.data_utils import *\n",
    "\n",
    "from PIL import Image\n",
    "\n",
    "new_style = {'grid': False}\n",
    "plt.rc('axes', **new_style)\n",
    "p = sns.color_palette()"
   ]
  },
  {
   "cell_type": "code",
   "execution_count": null,
   "metadata": {
    "collapsed": true,
    "deletable": true,
    "editable": true
   },
   "outputs": [],
   "source": [
    "INPUT_WIDTH = 224\n",
    "INPUT_HEIGHT = 224\n",
    "DATA_PATH = '/a/data/fisheries_monitoring/data/'\n",
    "np.random.seed(8574)"
   ]
  },
  {
   "cell_type": "code",
   "execution_count": null,
   "metadata": {
    "collapsed": false,
    "deletable": true,
    "editable": true
   },
   "outputs": [],
   "source": [
    "aug_folders = glob.glob(DATA_PATH + 'localizers/*')\n",
    "for i, folder in enumerate(aug_folders):\n",
    "    print \"index:\", i, '\\t', \"folder name:\", folder"
   ]
  },
  {
   "cell_type": "code",
   "execution_count": null,
   "metadata": {
    "collapsed": false,
    "deletable": true,
    "editable": true
   },
   "outputs": [],
   "source": [
    "# aug_folders = [aug_folders[0], aug_folders[3]]\n",
    "aug_folders = aug_folders[1:]"
   ]
  },
  {
   "cell_type": "code",
   "execution_count": null,
   "metadata": {
    "collapsed": false,
    "deletable": true,
    "editable": true
   },
   "outputs": [],
   "source": [
    "aug_folders"
   ]
  },
  {
   "cell_type": "code",
   "execution_count": null,
   "metadata": {
    "collapsed": false,
    "deletable": true,
    "editable": true
   },
   "outputs": [],
   "source": [
    "def data_generator(batch_size, labels, INPUT_WIDTH, INPUT_HEIGHT):\n",
    "    while True:\n",
    "        img_batch = np.zeros((batch_size, INPUT_WIDTH, INPUT_HEIGHT, 3))\n",
    "        box_batch = np.zeros((batch_size, 4))\n",
    "        for i in xrange(batch_size):\n",
    "            n = np.random.choice(len(labels))\n",
    "            file_name = labels.iloc[n][\"img\"]\n",
    "            path = DATA_PATH + 'localizers/' + file_name\n",
    "            img = image.load_img(path)\n",
    "            width, height = img.size\n",
    "            img = img.resize((INPUT_WIDTH, INPUT_HEIGHT))\n",
    "            img = image.img_to_array(img)\n",
    "            img /= 255\n",
    "            img_batch[i] = img\n",
    "            \n",
    "            old_x, old_y, old_w, old_h = labels.iloc[n][[\"x\",\"y\",\"w\",\"h\"]]\n",
    "            new_x = old_x / width\n",
    "            new_y = old_y / height\n",
    "            new_w = old_w / width\n",
    "            new_h = old_h / height\n",
    "            box = np.array([new_x, new_y, new_w, new_h])\n",
    "            box_batch[i] = box\n",
    "        \n",
    "        yield (img_batch, box_batch)\n",
    "\n",
    "\n",
    "def load_data(labels, INPUT_WIDTH, INPUT_HEIGHT):\n",
    "    X = []\n",
    "    y = []\n",
    "    idx = []\n",
    "    X_raw = []\n",
    "    y_raw = [] \n",
    "    shape_raw = []\n",
    "    for i in xrange(len(labels)):\n",
    "        file_name = labels.iloc[i][\"img\"]\n",
    "        path = DATA_PATH + 'localizers/' + file_name\n",
    "        img_raw = image.load_img(path)\n",
    "        width, height = img_raw.size\n",
    "        img = img_raw.resize((INPUT_WIDTH,INPUT_HEIGHT))\n",
    "        \n",
    "        img_raw = image.img_to_array(img_raw)\n",
    "        img_raw /= 255\n",
    "        img = image.img_to_array(img)\n",
    "        img /= 255\n",
    "        \n",
    "        old_x, old_y, old_w, old_h = labels.iloc[i][[\"x\",\"y\",\"w\",\"h\"]]\n",
    "        new_x = old_x / width\n",
    "        new_y = old_y / height\n",
    "        new_w = old_w / width\n",
    "        new_h = old_h / height\n",
    "\n",
    "        X.append(img)\n",
    "        y.append(np.array([new_x, new_y, new_w, new_h]))\n",
    "        idx.append(file_name)\n",
    "        X_raw.append(img_raw)\n",
    "        shape_raw.append(np.array([width, height]))\n",
    "        \n",
    "        if (i+1) in [k*len(labels)/5 for k in xrange(1,6)]:\n",
    "                print \"Loading...{}% done!\".format((i+2)*100/len(labels))\n",
    "        \n",
    "    return np.array(X), np.array(y), np.array(idx), np.array(X_raw), np.array(shape_raw)\n",
    "\n",
    "\n",
    "def visualize_prediction(img, index = None, true_box = None, pred_box = None, ax = None):\n",
    "    if ax is None:\n",
    "        _, ax = plt.subplots(1, 1, figsize=(12,8))\n",
    "    ax.imshow(img)\n",
    "    if index is not None:\n",
    "        ax.set_title(index)\n",
    "    height = img.shape[0]\n",
    "    width = img.shape[1]\n",
    "    \n",
    "    if true_box is not None:\n",
    "        x, y, w, h = true_box\n",
    "        x = x * width\n",
    "        y = y * height\n",
    "        w = w * width\n",
    "        h = h * height\n",
    "        ax.add_patch(\n",
    "        patches.Rectangle(\n",
    "            (x, y), # x,y\n",
    "            w, # width\n",
    "            h, # height\n",
    "            hatch='\\\\',\n",
    "            fill=False,      # remove background\n",
    "            color = 'r',\n",
    "            linewidth = 2.5\n",
    "                )\n",
    "            )\n",
    "    if pred_box is not None:\n",
    "        x, y, w, h = pred_box\n",
    "        x = x * width\n",
    "        y = y * height\n",
    "        w = w * width\n",
    "        h = h * height\n",
    "        ax.add_patch(\n",
    "        patches.Rectangle(\n",
    "            (x, y), # x,y\n",
    "            w, # width\n",
    "            h, # height\n",
    "            hatch='-',\n",
    "            fill=False,      # remove background\n",
    "            color = 'k',\n",
    "            linewidth = 2.5\n",
    "                )\n",
    "            )\n",
    "\n",
    "def make_plot(data, nrow = 2, ncol = 2, index = None, true_box = None, pred_box = None, figsize = (15,8)):\n",
    "    # Create grid\n",
    "    _, ax = plt.subplots(nrow, ncol, figsize=figsize)\n",
    "    \n",
    "    idx = None\n",
    "    tbox = None\n",
    "    pbox = None\n",
    "    # Generate indices of images to show\n",
    "    for axi in np.ravel(ax):\n",
    "        n = np.random.choice(len(data))\n",
    "        img = data[n]\n",
    "        if index is not None:\n",
    "            idx = index[n]\n",
    "        if true_box is not None:\n",
    "            tbox = true_box[n]\n",
    "        if pred_box is not None:\n",
    "            pbox = pred_box[n]\n",
    "        \n",
    "        # Visualize it along with the box\n",
    "        visualize_prediction(img, index = idx, true_box = tbox, pred_box = pbox, ax = axi)"
   ]
  },
  {
   "cell_type": "code",
   "execution_count": null,
   "metadata": {
    "collapsed": false,
    "deletable": true,
    "editable": true
   },
   "outputs": [],
   "source": [
    "aug_labels, og_labels = load_all_labels(aug_folders)"
   ]
  },
  {
   "cell_type": "code",
   "execution_count": null,
   "metadata": {
    "collapsed": true,
    "deletable": true,
    "editable": true
   },
   "outputs": [],
   "source": [
    "train_labels, val_labels = train_val_split(aug_labels, og_labels, 0.7, 0.3)"
   ]
  },
  {
   "cell_type": "code",
   "execution_count": null,
   "metadata": {
    "collapsed": false,
    "deletable": true,
    "editable": true
   },
   "outputs": [],
   "source": [
    "X_test, y_test, id_test, X_test_raw, shape_raw = load_data(test_labels, INPUT_WIDTH, INPUT_HEIGHT)"
   ]
  },
  {
   "cell_type": "markdown",
   "metadata": {
    "deletable": true,
    "editable": true
   },
   "source": [
    "## Visualizing data"
   ]
  },
  {
   "cell_type": "code",
   "execution_count": null,
   "metadata": {
    "collapsed": false,
    "deletable": true,
    "editable": true
   },
   "outputs": [],
   "source": [
    "make_plot(data = X_test_raw, nrow = 1, ncol = 1, index = id_test, true_box = y_test, figsize = (15,8))"
   ]
  },
  {
   "cell_type": "markdown",
   "metadata": {
    "deletable": true,
    "editable": true
   },
   "source": [
    "## Define model"
   ]
  },
  {
   "cell_type": "code",
   "execution_count": null,
   "metadata": {
    "collapsed": false,
    "deletable": true,
    "editable": true
   },
   "outputs": [],
   "source": [
    "# Model No.2\n",
    "# Input Size: 224 x 224\n",
    "# Input label: x,y,w,h, normalized from 0 to 1.\n",
    "# Base model: ResNet50\n",
    "# Affine layers: Two dense layers width 512, followed by BatchNormalization and Dropout rate 0.5\n",
    "# Activation: sigmoid\n",
    "# Loss function: mean squared error\n",
    "\n",
    "base_model = ResNet50(weights='imagenet', include_top = False, input_shape=(INPUT_WIDTH, INPUT_HEIGHT,3))\n",
    "\n",
    "x = base_model.output\n",
    "x = Flatten()(x)\n",
    "x = Dense(512, activation='relu')(x)\n",
    "x = BatchNormalization()(x)\n",
    "x = Dropout(0.5)(x)\n",
    "x = Dense(512, activation='relu')(x)\n",
    "x = BatchNormalization()(x)\n",
    "x = Dropout(0.5)(x)\n",
    "predictions = Dense(4, activation = 'sigmoid')(x)\n",
    "model = Model(inputs=base_model.input, outputs=predictions)\n",
    "\n",
    "for layer in base_model.layers[:-3]:\n",
    "    layer.trainable = False\n",
    "for layer in base_model.layers[-3:]:\n",
    "    layer.trainable = True\n",
    "\n",
    "model.compile(optimizer='adam', loss='mean_squared_error')"
   ]
  },
  {
   "cell_type": "markdown",
   "metadata": {
    "deletable": true,
    "editable": true
   },
   "source": [
    "## Start training"
   ]
  },
  {
   "cell_type": "code",
   "execution_count": null,
   "metadata": {
    "collapsed": false,
    "deletable": true,
    "editable": true,
    "scrolled": false
   },
   "outputs": [],
   "source": [
    "model = load_model(DATA_PATH + 'models/localizers/ResNet50_SuperBox_2.h5')\n",
    "\n",
    "batch_size = 30\n",
    "steps_per_epoch = np.ceil(len(train_labels)/batch_size)\n",
    "nb_epoch = 5\n",
    "callbacks = [EarlyStopping(monitor='val_loss', patience=3, verbose=0),]\n",
    "\n",
    "model.fit_generator(generator = data_generator(batch_size, train_labels, INPUT_WIDTH, INPUT_HEIGHT), \n",
    "                    steps_per_epoch = steps_per_epoch,\n",
    "                    epochs=nb_epoch,\n",
    "                    verbose=1,\n",
    "                    callbacks = callbacks,\n",
    "                    validation_data = data_generator(batch_size, val_labels, INPUT_WIDTH, INPUT_HEIGHT),\n",
    "                    validation_steps = 30)\n",
    "model.save(DATA_PATH + 'models/localizers/ResNet50_SuperBox_2.h5')"
   ]
  },
  {
   "cell_type": "code",
   "execution_count": 15,
   "metadata": {
    "collapsed": true
   },
   "outputs": [],
   "source": [
    "model.save(DATA_PATH + 'models/localizers/ResNet50_SuperBox_2.h5')"
   ]
  },
  {
   "cell_type": "markdown",
   "metadata": {
    "deletable": true,
    "editable": true
   },
   "source": [
    "## Prediction and visualization"
   ]
  },
  {
   "cell_type": "code",
   "execution_count": null,
   "metadata": {
    "collapsed": false,
    "deletable": true,
    "editable": true
   },
   "outputs": [],
   "source": [
    "model = load_model(DATA_PATH + 'models/localizers/ResNet50_SuperBox_2.h5')\n",
    "y_pred = model.predict(X_test.astype('float32'), verbose=1)\n",
    "print \"test loss:\", mean_squared_error(y_test, y_pred)"
   ]
  },
  {
   "cell_type": "code",
   "execution_count": null,
   "metadata": {
    "collapsed": false,
    "deletable": true,
    "editable": true,
    "scrolled": false
   },
   "outputs": [],
   "source": [
    "# The true boxes have the patch pattern of '\\\\' and predicted boxes have the patch pattern of '-'\n",
    "make_plot(data = X_test_raw,\n",
    "          nrow = 4, \n",
    "          ncol = 1, \n",
    "          index = id_test, \n",
    "          true_box = y_test, \n",
    "          pred_box = y_pred, \n",
    "          figsize = (15, 40))"
   ]
  }
 ],
 "metadata": {
  "kernelspec": {
   "display_name": "Python 2",
   "language": "python",
   "name": "python2"
  },
  "language_info": {
   "codemirror_mode": {
    "name": "ipython",
    "version": 2
   },
   "file_extension": ".py",
   "mimetype": "text/x-python",
   "name": "python",
   "nbconvert_exporter": "python",
   "pygments_lexer": "ipython2",
   "version": "2.7.5"
  }
 },
 "nbformat": 4,
 "nbformat_minor": 0
}
