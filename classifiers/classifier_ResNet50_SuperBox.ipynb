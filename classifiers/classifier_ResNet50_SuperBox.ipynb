{
 "cells": [
  {
   "cell_type": "code",
   "execution_count": 1,
   "metadata": {
    "collapsed": false,
    "deletable": true,
    "editable": true
   },
   "outputs": [
    {
     "name": "stderr",
     "output_type": "stream",
     "text": [
      "Using TensorFlow backend.\n"
     ]
    }
   ],
   "source": [
    "%matplotlib inline\n",
    "import numpy as np\n",
    "np.random.seed(2016)\n",
    "import matplotlib.pyplot as plt\n",
    "\n",
    "import os\n",
    "import glob\n",
    "import datetime\n",
    "import pandas as pd\n",
    "import time\n",
    "import warnings\n",
    "warnings.filterwarnings(\"ignore\")\n",
    "\n",
    "from scipy.misc import imread\n",
    "from scipy.misc import imresize\n",
    "\n",
    "from sklearn.model_selection import KFold\n",
    "from sklearn.model_selection import train_test_split\n",
    "from sklearn.metrics import log_loss\n",
    "\n",
    "from keras.models import Sequential\n",
    "from keras.layers.core import Dense, Dropout, Flatten\n",
    "from keras.layers.convolutional import Convolution2D, MaxPooling2D, ZeroPadding2D\n",
    "from keras.optimizers import SGD\n",
    "from keras.callbacks import EarlyStopping\n",
    "from keras.utils import np_utils\n",
    "from keras import __version__ as keras_version\n",
    "\n",
    "from keras.applications.resnet50 import ResNet50\n",
    "from keras.applications.resnet50 import preprocess_input, decode_predictions\n",
    "from keras.preprocessing import image\n",
    "from keras.models import Model\n",
    "from keras.layers import Dense, GlobalAveragePooling2D\n",
    "from keras import backend as K"
   ]
  },
  {
   "cell_type": "code",
   "execution_count": 2,
   "metadata": {
    "collapsed": false,
    "deletable": true,
    "editable": true
   },
   "outputs": [],
   "source": [
    "DATA_PATH = '/a/data/fisheries_monitoring/data/'"
   ]
  },
  {
   "cell_type": "code",
   "execution_count": 3,
   "metadata": {
    "collapsed": true,
    "deletable": true,
    "editable": true
   },
   "outputs": [],
   "source": [
    "def load_cropped_train():\n",
    "    X_train = []\n",
    "    X_train_id = []\n",
    "    y_train = []\n",
    "    start_time = time.time()\n",
    "\n",
    "    print('Read train images')\n",
    "    folders = ['ALB', 'BET', 'DOL', 'LAG', 'OTHER', 'SHARK', 'YFT', 'NoF']\n",
    "    for fld in folders:\n",
    "        index = folders.index(fld)\n",
    "        print('Load folder {} (Index: {})'.format(fld, index))\n",
    "        path = os.path.join(DATA_PATH + 'classifiers/superbox/', fld, '*.jpg')\n",
    "        files = sorted(glob.glob(path))\n",
    "        for fl in files:\n",
    "            flbase = os.path.basename(fl)\n",
    "            img = image.load_img(fl, target_size=(224, 224))\n",
    "            img = image.img_to_array(img)\n",
    "            X_train.append(img)\n",
    "            X_train_id.append(fld + '/' + flbase)\n",
    "            y_train.append(index)\n",
    "\n",
    "    print('Read train data time: {} seconds'.format(round(time.time() - start_time, 2)))\n",
    "    return X_train, y_train, X_train_id\n",
    "\n",
    "def read_and_normalize_cropped_train_data():\n",
    "    train_data, train_target, train_id = load_cropped_train()\n",
    "\n",
    "    print('Convert to numpy...')\n",
    "    train_data = np.array(train_data)\n",
    "    train_target = np.array(train_target)\n",
    "\n",
    "    print('Convert to float...')\n",
    "    train_data = train_data.astype('float32')\n",
    "    train_data = train_data / 255\n",
    "    train_target = np_utils.to_categorical(train_target, 8)\n",
    "\n",
    "    print('Train shape:', train_data.shape)\n",
    "    print(train_data.shape[0], 'train samples')\n",
    "    return train_data, train_target, train_id"
   ]
  },
  {
   "cell_type": "code",
   "execution_count": 4,
   "metadata": {
    "collapsed": false,
    "deletable": true,
    "editable": true
   },
   "outputs": [
    {
     "name": "stdout",
     "output_type": "stream",
     "text": [
      "Read train images\n",
      "Load folder ALB (Index: 0)\n",
      "Load folder BET (Index: 1)\n",
      "Load folder DOL (Index: 2)\n",
      "Load folder LAG (Index: 3)\n",
      "Load folder OTHER (Index: 4)\n",
      "Load folder SHARK (Index: 5)\n",
      "Load folder YFT (Index: 6)\n",
      "Load folder NoF (Index: 7)\n",
      "Read train data time: 28.93 seconds\n",
      "Convert to numpy...\n",
      "Convert to float...\n",
      "('Train shape:', (3777, 224, 224, 3))\n",
      "(3777, 'train samples')\n"
     ]
    }
   ],
   "source": [
    "train_data, train_target, train_id = read_and_normalize_cropped_train_data()"
   ]
  },
  {
   "cell_type": "code",
   "execution_count": null,
   "metadata": {
    "collapsed": false
   },
   "outputs": [
    {
     "name": "stdout",
     "output_type": "stream",
     "text": [
      "ALB/img_01620.jpg\n"
     ]
    },
    {
     "data": {
      "text/plain": [
       "<matplotlib.image.AxesImage at 0x9bf8490>"
      ]
     },
     "execution_count": 37,
     "metadata": {},
     "output_type": "execute_result"
    }
   ],
   "source": [
    "n = np.random.choice(train_data.shape[0])\n",
    "img = train_data[n]\n",
    "print train_id[n]\n",
    "_, ax = plt.subplots(1, 1, figsize=(60, 9))\n",
    "ax.imshow(img)"
   ]
  },
  {
   "cell_type": "code",
   "execution_count": 28,
   "metadata": {
    "collapsed": false
   },
   "outputs": [
    {
     "data": {
      "text/plain": [
       "'NoF/img_03908.jpg'"
      ]
     },
     "execution_count": 28,
     "metadata": {},
     "output_type": "execute_result"
    }
   ],
   "source": [
    "train_id[n]"
   ]
  },
  {
   "cell_type": "code",
   "execution_count": 5,
   "metadata": {
    "collapsed": false,
    "deletable": true,
    "editable": true
   },
   "outputs": [],
   "source": [
    "base_model = ResNet50(weights='imagenet', include_top = False, input_shape=(224,224,3))\n",
    "\n",
    "x = base_model.output\n",
    "x = Flatten()(x)\n",
    "x = Dense(1024, activation='relu')(x)\n",
    "predictions = Dense(8, activation='softmax')(x)\n",
    "model = Model(input=base_model.input, output=predictions)\n",
    "\n",
    "for layer in base_model.layers:\n",
    "    layer.trainable = False\n",
    "\n",
    "model.compile(optimizer='sgd', loss='categorical_crossentropy')"
   ]
  },
  {
   "cell_type": "code",
   "execution_count": 6,
   "metadata": {
    "collapsed": false,
    "deletable": true,
    "editable": true
   },
   "outputs": [],
   "source": [
    "batch_size = 16\n",
    "nb_epoch = 30\n",
    "random_state = 51\n",
    "\n",
    "X_train, X_test, y_train, y_test = train_test_split(train_data, train_target, test_size=0.2, random_state=0)"
   ]
  },
  {
   "cell_type": "code",
   "execution_count": 7,
   "metadata": {
    "collapsed": false,
    "deletable": true,
    "editable": true
   },
   "outputs": [
    {
     "name": "stdout",
     "output_type": "stream",
     "text": [
      "Train on 3021 samples, validate on 756 samples\n",
      "Epoch 1/30\n",
      "46s - loss: 1.0205 - val_loss: 2.0390\n",
      "Epoch 2/30\n",
      "45s - loss: 0.6130 - val_loss: 2.3426\n",
      "Epoch 3/30\n",
      "45s - loss: 0.4810 - val_loss: 2.3537\n",
      "Epoch 4/30\n",
      "45s - loss: 0.3858 - val_loss: 2.0463\n",
      "Epoch 5/30\n",
      "45s - loss: 0.3247 - val_loss: 1.0338\n",
      "Epoch 6/30\n",
      "45s - loss: 0.2892 - val_loss: 0.3947\n",
      "Epoch 7/30\n",
      "45s - loss: 0.2568 - val_loss: 0.2845\n",
      "Epoch 8/30\n",
      "45s - loss: 0.2197 - val_loss: 0.3789\n",
      "Epoch 9/30\n",
      "45s - loss: 0.2036 - val_loss: 0.2638\n",
      "Epoch 10/30\n",
      "45s - loss: 0.1834 - val_loss: 0.2673\n",
      "Epoch 11/30\n",
      "45s - loss: 0.1569 - val_loss: 0.2782\n",
      "Epoch 12/30\n",
      "45s - loss: 0.1523 - val_loss: 0.2376\n",
      "Epoch 13/30\n",
      "45s - loss: 0.1365 - val_loss: 0.2359\n",
      "Epoch 14/30\n",
      "45s - loss: 0.1205 - val_loss: 0.2360\n",
      "Epoch 15/30\n",
      "45s - loss: 0.1196 - val_loss: 0.2453\n",
      "Epoch 16/30\n",
      "45s - loss: 0.1031 - val_loss: 0.2323\n",
      "Epoch 17/30\n",
      "45s - loss: 0.1009 - val_loss: 0.2284\n",
      "Epoch 18/30\n",
      "45s - loss: 0.0898 - val_loss: 0.2292\n",
      "Epoch 19/30\n",
      "45s - loss: 0.0731 - val_loss: 0.2531\n",
      "Epoch 20/30\n",
      "45s - loss: 0.0800 - val_loss: 0.2269\n",
      "Epoch 21/30\n",
      "45s - loss: 0.0776 - val_loss: 0.2391\n",
      "Epoch 22/30\n",
      "45s - loss: 0.0728 - val_loss: 0.2269\n",
      "Epoch 23/30\n",
      "45s - loss: 0.0682 - val_loss: 0.2374\n",
      "Epoch 24/30\n",
      "45s - loss: 0.0679 - val_loss: 0.2169\n",
      "Epoch 25/30\n",
      "45s - loss: 0.0600 - val_loss: 0.2146\n",
      "Epoch 26/30\n",
      "45s - loss: 0.0542 - val_loss: 0.2229\n",
      "Epoch 27/30\n",
      "45s - loss: 0.0499 - val_loss: 0.2223\n",
      "Epoch 28/30\n",
      "45s - loss: 0.0487 - val_loss: 0.2194\n",
      "Epoch 29/30\n",
      "45s - loss: 0.0484 - val_loss: 0.2183\n"
     ]
    },
    {
     "data": {
      "text/plain": [
       "<keras.callbacks.History at 0x260a110>"
      ]
     },
     "execution_count": 7,
     "metadata": {},
     "output_type": "execute_result"
    }
   ],
   "source": [
    "callbacks = [EarlyStopping(monitor='val_loss', patience=3, verbose=0),]\n",
    "model.fit(X_train, y_train, batch_size=batch_size, nb_epoch=nb_epoch, shuffle=True,\n",
    "          verbose=2, validation_data=(X_test, y_test), callbacks=callbacks)\n",
    "model.save(DATA_PATH + 'models/ResNet50_SuperBox.h5')"
   ]
  },
  {
   "cell_type": "code",
   "execution_count": 8,
   "metadata": {
    "collapsed": false,
    "deletable": true,
    "editable": true
   },
   "outputs": [],
   "source": [
    "predictions_valid = model.predict(X_test.astype('float32'), batch_size=batch_size, verbose=2)\n",
    "score = log_loss(y_test, predictions_valid)"
   ]
  },
  {
   "cell_type": "code",
   "execution_count": 9,
   "metadata": {
    "collapsed": false,
    "deletable": true,
    "editable": true
   },
   "outputs": [
    {
     "name": "stdout",
     "output_type": "stream",
     "text": [
      "log loss score:  0.218303046877\n"
     ]
    }
   ],
   "source": [
    "print \"log loss score: \", score"
   ]
  },
  {
   "cell_type": "code",
   "execution_count": 10,
   "metadata": {
    "collapsed": false,
    "deletable": true,
    "editable": true
   },
   "outputs": [],
   "source": [
    "from sklearn.metrics import accuracy_score\n",
    "y_true = np.argmax(y_test, axis = 1)\n",
    "y_pred = np.argmax(predictions_valid, axis = 1)\n",
    "acc = accuracy_score(y_true, y_pred, normalize=True, sample_weight=None)"
   ]
  },
  {
   "cell_type": "code",
   "execution_count": 11,
   "metadata": {
    "collapsed": false,
    "deletable": true,
    "editable": true
   },
   "outputs": [
    {
     "name": "stdout",
     "output_type": "stream",
     "text": [
      "accuracy:  0.937830687831\n"
     ]
    }
   ],
   "source": [
    "print \"accuracy: \", acc"
   ]
  },
  {
   "cell_type": "code",
   "execution_count": 13,
   "metadata": {
    "collapsed": false,
    "deletable": true,
    "editable": true
   },
   "outputs": [
    {
     "name": "stdout",
     "output_type": "stream",
     "text": [
      "true:  [6, 0, 6, 0, 0, 2, 6, 6, 1, 4, 6, 0, 5, 0, 6, 2, 6, 6, 6, 0, 0, 6, 0, 5, 0, 6, 1, 6, 5, 0, 0, 6, 2, 0, 6]\n",
      "pred:  [4, 6, 0, 4, 4, 0, 0, 0, 0, 6, 0, 4, 0, 6, 0, 0, 0, 0, 0, 7, 6, 1, 6, 6, 1, 0, 6, 0, 4, 5, 4, 1, 1, 4, 0]\n",
      "true:  [6, 0, 6, 0, 1, 4, 2, 6, 6, 0, 0, 6]\n",
      "pred:  [0, 5, 1, 6, 0, 0, 6, 1, 0, 6, 4, 2]\n"
     ]
    }
   ],
   "source": [
    "error_true = []\n",
    "error_pred = []\n",
    "for n in xrange(len(y_true)):\n",
    "    if y_true[n] != y_pred[n]:\n",
    "        error_true.append(y_true[n])\n",
    "        error_pred.append(y_pred[n])\n",
    "print \"true: \", error_true[0:35]\n",
    "print \"pred: \", error_pred[0:35]\n",
    "print \"true: \", error_true[35:]\n",
    "print \"pred: \", error_pred[35:]"
   ]
  }
 ],
 "metadata": {
  "kernelspec": {
   "display_name": "Python 2",
   "language": "python",
   "name": "python2"
  },
  "language_info": {
   "codemirror_mode": {
    "name": "ipython",
    "version": 2
   },
   "file_extension": ".py",
   "mimetype": "text/x-python",
   "name": "python",
   "nbconvert_exporter": "python",
   "pygments_lexer": "ipython2",
   "version": "2.7.5"
  }
 },
 "nbformat": 4,
 "nbformat_minor": 0
}
