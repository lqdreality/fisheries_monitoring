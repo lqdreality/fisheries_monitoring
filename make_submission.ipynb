{
 "cells": [
  {
   "cell_type": "code",
   "execution_count": 4,
   "metadata": {
    "collapsed": false,
    "deletable": true,
    "editable": true
   },
   "outputs": [
    {
     "name": "stderr",
     "output_type": "stream",
     "text": [
      "Using TensorFlow backend.\n"
     ]
    }
   ],
   "source": [
    "%matplotlib inline\n",
    "\n",
    "import pandas as pd\n",
    "import numpy as np\n",
    "import matplotlib.pyplot as plt\n",
    "import matplotlib.patches as patches\n",
    "from PIL import Image\n",
    "import os\n",
    "import glob\n",
    "from scipy.misc import imread\n",
    "\n",
    "\n",
    "from keras.preprocessing import image\n",
    "from keras.models import load_model\n",
    "\n",
    "import tensorflow as tf\n",
    "gpu_options = tf.GPUOptions(per_process_gpu_memory_fraction=0.5)\n",
    "sess = tf.Session(config=tf.ConfigProto(gpu_options=gpu_options))"
   ]
  },
  {
   "cell_type": "code",
   "execution_count": 1,
   "metadata": {
    "collapsed": true,
    "deletable": true,
    "editable": true
   },
   "outputs": [],
   "source": [
    "DATA_PATH = '/a/data/fisheries_monitoring/data/'\n",
    "INPUT_WIDTH = 224\n",
    "INPUT_HEIGHT = 224"
   ]
  },
  {
   "cell_type": "code",
   "execution_count": 2,
   "metadata": {
    "collapsed": true,
    "deletable": true,
    "editable": true
   },
   "outputs": [],
   "source": [
    "def load_test_data(INPUT_WIDTH, INPUT_HEIGHT):\n",
    "    X_test_raw = []\n",
    "    X_test = []\n",
    "    id_test = []\n",
    "    path = glob.glob(DATA_PATH + 'test_stg2/*.jpg')\n",
    "    for i in xrange(len(path)):\n",
    "        img_raw = image.load_img(path[i])\n",
    "        img = img_raw\n",
    "        img_raw = image.img_to_array(img)\n",
    "        img_raw /= 255\n",
    "\n",
    "        img = img.resize((INPUT_WIDTH, INPUT_HEIGHT))\n",
    "        img = image.img_to_array(img)\n",
    "        img /= 255\n",
    "\n",
    "        X_test_raw.append(img_raw)\n",
    "        X_test.append(img)        \n",
    "        id_test.append(os.path.basename(path[i]))\n",
    "        \n",
    "        if (i+1) in [k*len(path)/5 for k in xrange(1,6)]:\n",
    "                print \"Loading...{}% done!\".format((i+2)*100/len(path))\n",
    "    return X_test_raw, np.array(X_test), np.array(id_test)\n",
    "\n",
    "\n",
    "def test_data_generator(batch_size, files, INPUT_WIDTH, INPUT_HEIGHT):\n",
    "    while True:\n",
    "        img_batch = np.zeros((batch_size, INPUT_WIDTH, INPUT_HEIGHT, 3))\n",
    "        \n",
    "        for i in xrange(batch_size):\n",
    "            if len(files) == 0:\n",
    "                img_batch = img_batch[:i]\n",
    "                break\n",
    "            f = files.pop(0)\n",
    "            path = DATA_PATH + 'test_stg2/' + f\n",
    "            img = image.load_img(path)\n",
    "            width, height = img.size\n",
    "            img = img.resize((INPUT_WIDTH, INPUT_HEIGHT))\n",
    "            img = image.img_to_array(img)\n",
    "            img /= 255\n",
    "            img_batch[i] = img\n",
    "        \n",
    "        yield img_batch\n",
    "        \n",
    "\n",
    "def visualize_prediction(img, index = None, true_box = None, pred_box = None, ax = None):\n",
    "    if ax is None:\n",
    "        _, ax = plt.subplots(1, 1, figsize=(12,8))\n",
    "    ax.imshow(img)\n",
    "    if index is not None:\n",
    "        ax.set_title(index)\n",
    "    height = img.shape[0]\n",
    "    width = img.shape[1]\n",
    "    \n",
    "    if true_box is not None:\n",
    "        x, y, w, h = true_box\n",
    "        x = x * width\n",
    "        y = y * height\n",
    "        w = w * width\n",
    "        h = h * height\n",
    "        ax.add_patch(\n",
    "        patches.Rectangle(\n",
    "            (x, y), # x,y\n",
    "            w, # width\n",
    "            h, # height\n",
    "            hatch='\\\\',\n",
    "            fill=False,      # remove background\n",
    "            color = 'r',\n",
    "            linewidth = 2.5\n",
    "                )\n",
    "            )\n",
    "    if pred_box is not None:\n",
    "        x, y, w, h = pred_box\n",
    "        x = x * width\n",
    "        y = y * height\n",
    "        w = w * width\n",
    "        h = h * height\n",
    "        ax.add_patch(\n",
    "        patches.Rectangle(\n",
    "            (x, y), # x,y\n",
    "            w, # width\n",
    "            h, # height\n",
    "            hatch='-',\n",
    "            fill=False,      # remove background\n",
    "            color = 'k',\n",
    "            linewidth = 2.5\n",
    "                )\n",
    "            )\n",
    "\n",
    "def make_plot(data, nrow = 2, ncol = 2, index = None, true_box = None, pred_box = None, figsize = (15,8)):\n",
    "    # Create grid\n",
    "    _, ax = plt.subplots(nrow, ncol, figsize=figsize)\n",
    "    \n",
    "    idx = None\n",
    "    tbox = None\n",
    "    pbox = None\n",
    "    # Generate indices of images to show\n",
    "    for axi in np.ravel(ax):\n",
    "        n = np.random.choice(len(data))\n",
    "        img = data[n]\n",
    "        if index is not None:\n",
    "            idx = index[n]\n",
    "        if true_box is not None:\n",
    "            tbox = true_box[n]\n",
    "        if pred_box is not None:\n",
    "            pbox = pred_box[n]\n",
    "        \n",
    "        # Visualize it along with the box\n",
    "        visualize_prediction(img, index = idx, true_box = tbox, pred_box = pbox, ax = axi)\n",
    "\n",
    "\n",
    "# Crop all the fishes and save them as separate files.\n",
    "def crop_all_fishes(id_test, y_pred):\n",
    "    X_crop = []\n",
    "    for i in xrange(len(id_test)):\n",
    "        file_name = DATA_PATH + 'test_stg2/' + id_test[i]\n",
    "        img = Image.open(file_name)\n",
    "        \n",
    "        width, height = img.size\n",
    "        x, y, w, h = y_pred[i]\n",
    "        left = int(max(x,0) * width)\n",
    "        right = int(min((x + w), 1) * width)\n",
    "        top = int(max(y,0) * height)\n",
    "        bottom = int(min((y + h), 1) * height)\n",
    "        img = img.crop((left, top, right, bottom))\n",
    "        img = img.resize((224,224))\n",
    "        img = image.img_to_array(img)\n",
    "        img /= 255\n",
    "        X_crop.append(img)\n",
    "        if (i+1) in [k*len(id_test)/5 for k in xrange(1,6)]:\n",
    "            print \"Cropping fishes...{}% done!\".format((i+2)*100/len(id_test))\n",
    "    return np.array(X_crop)\n",
    "\n",
    "def make_submission(id_test, y_pred):\n",
    "    df1 = pd.DataFrame(id_test, columns = [\"image\"])\n",
    "    df2 = pd.DataFrame(y_pred, columns = ['ALB', 'BET', 'DOL', 'LAG', 'OTHER', 'SHARK', 'YFT', 'NoF'])\n",
    "    df2_reorder = df2.reindex_axis(sorted(df2.columns), axis=1)\n",
    "    submission = pd.concat([df1,df2_reorder],axis = 1)\n",
    "    submission = submission.sort_values(by = \"image\")\n",
    "    submission.to_csv(DATA_PATH + 'submission5.csv', header = True, index = False)\n",
    "    return submission"
   ]
  },
  {
   "cell_type": "markdown",
   "metadata": {
    "deletable": true,
    "editable": true
   },
   "source": [
    "## Load pretrained models"
   ]
  },
  {
   "cell_type": "code",
   "execution_count": 10,
   "metadata": {
    "collapsed": false,
    "deletable": true,
    "editable": true
   },
   "outputs": [],
   "source": [
    "localizer = load_model(DATA_PATH + 'models/localizers/checkpoints/ResNet3SB.33-0.00.hdf5')\n",
    "classifier = load_model(DATA_PATH + 'models/classifiers/classifier3.h5')"
   ]
  },
  {
   "cell_type": "markdown",
   "metadata": {
    "deletable": true,
    "editable": true
   },
   "source": [
    "## Predict bounding boxes by localizer"
   ]
  },
  {
   "cell_type": "code",
   "execution_count": 11,
   "metadata": {
    "collapsed": false,
    "deletable": true,
    "editable": true
   },
   "outputs": [
    {
     "name": "stdout",
     "output_type": "stream",
     "text": [
      "439/439 [==============================] - 188s   \n"
     ]
    }
   ],
   "source": [
    "test_folder = DATA_PATH + 'test_stg2/'\n",
    "file_test = os.listdir(test_folder)\n",
    "N_test = len(file_test)\n",
    "batch_size = 30\n",
    "\n",
    "steps = np.ceil(float(N_test)/batch_size)\n",
    "\n",
    "pred_box = localizer.predict_generator(generator = test_data_generator(batch_size, file_test, INPUT_WIDTH, INPUT_HEIGHT),\n",
    "                                       steps = steps,\n",
    "                                       verbose = 1)"
   ]
  },
  {
   "cell_type": "code",
   "execution_count": null,
   "metadata": {
    "collapsed": false,
    "deletable": true,
    "editable": true
   },
   "outputs": [
    {
     "name": "stdout",
     "output_type": "stream",
     "text": [
      "Cropping fishes...20% done!\n",
      "Cropping fishes...40% done!\n",
      "Cropping fishes...60% done!\n",
      "Cropping fishes...80% done!\n",
      "Cropping fishes...100% done!\n"
     ]
    }
   ],
   "source": [
    "X_crop = crop_all_fishes(os.listdir(test_folder), pred_box)"
   ]
  },
  {
   "cell_type": "markdown",
   "metadata": {
    "deletable": true,
    "editable": true
   },
   "source": [
    "## Predict classes by classifier"
   ]
  },
  {
   "cell_type": "code",
   "execution_count": null,
   "metadata": {
    "collapsed": false,
    "deletable": true,
    "editable": true
   },
   "outputs": [
    {
     "name": "stdout",
     "output_type": "stream",
     "text": [
      "  224/13153 [..............................] - ETA: 204s"
     ]
    }
   ],
   "source": [
    "y_pred = classifier.predict(X_crop.astype('float32'), verbose=1)"
   ]
  },
  {
   "cell_type": "markdown",
   "metadata": {
    "deletable": true,
    "editable": true
   },
   "source": [
    "## Make submission"
   ]
  },
  {
   "cell_type": "code",
   "execution_count": 9,
   "metadata": {
    "collapsed": false,
    "deletable": true,
    "editable": true
   },
   "outputs": [
    {
     "name": "stdout",
     "output_type": "stream",
     "text": [
      "['image_07987.jpg', 'image_00807.jpg', 'image_10284.jpg', 'image_02265.jpg', 'image_05811.jpg', 'image_01536.jpg', 'image_06540.jpg', 'image_00483.jpg', 'image_09769.jpg', 'image_10608.jpg']\n",
      "['test_stg2/image_07987.jpg', 'test_stg2/image_00807.jpg', 'test_stg2/image_10284.jpg', 'test_stg2/image_02265.jpg', 'test_stg2/image_05811.jpg', 'test_stg2/image_01536.jpg', 'test_stg2/image_06540.jpg', 'test_stg2/image_00483.jpg', 'test_stg2/image_09769.jpg', 'test_stg2/image_10608.jpg']\n"
     ]
    }
   ],
   "source": [
    "files = os.listdir(test_folder)\n",
    "\n",
    "print files[0:10]\n",
    "for i, f in enumerate(files):\n",
    "    if f.startswith(\"image\"):\n",
    "        files[i] = \"test_stg2/\" + f\n",
    "print files[0:10]\n",
    "submission = make_submission(files, y_pred)"
   ]
  },
  {
   "cell_type": "code",
   "execution_count": null,
   "metadata": {
    "collapsed": false,
    "deletable": true,
    "editable": true
   },
   "outputs": [],
   "source": [
    "submission.head()"
   ]
  }
 ],
 "metadata": {
  "kernelspec": {
   "display_name": "Python 2",
   "language": "python",
   "name": "python2"
  },
  "language_info": {
   "codemirror_mode": {
    "name": "ipython",
    "version": 2
   },
   "file_extension": ".py",
   "mimetype": "text/x-python",
   "name": "python",
   "nbconvert_exporter": "python",
   "pygments_lexer": "ipython2",
   "version": "2.7.5"
  }
 },
 "nbformat": 4,
 "nbformat_minor": 2
}
